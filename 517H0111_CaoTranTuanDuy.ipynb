{
 "cells": [
  {
   "cell_type": "code",
   "execution_count": 1,
   "metadata": {},
   "outputs": [],
   "source": [
    "import pandas as pd"
   ]
  },
  {
   "cell_type": "code",
   "execution_count": 2,
   "metadata": {},
   "outputs": [],
   "source": [
    "# thực hiện tiếp các nhiệm vụ sau:\n",
    "# \n",
    "#  lựa chọn đặc trưng 1-gram, 2-gram\n",
    "# convert sang vector với trọng số ở các mode: binary, count, tfidf \n",
    "# chia thành tập Train và Test \n",
    "# xây dựng các mô hình học: NB, SVM, Neural Network \n",
    "# chọn mô hình tốt nhất và viết hàm dự đoán sentiment của một câu đưa vào"
   ]
  },
  {
   "cell_type": "code",
   "execution_count": 3,
   "metadata": {},
   "outputs": [
    {
     "name": "stdout",
     "output_type": "stream",
     "text": [
      "df.head(5):\n",
      "    Unnamed: 0                                       comment label\n",
      "0           0                         áo bao đẹp ạ positive   POS\n",
      "1           1                            tuyệt vời positive   POS\n",
      "2           2                     2day ao không giong trong   NEG\n",
      "3           3  mùi thơm bôi lên da mềm da nagative positive   POS\n",
      "4           4                      vải đẹp dày dặn positive   POS\n",
      "df.shape:  (31460, 3)\n",
      "df.columns:  Index(['Unnamed: 0', 'comment', 'label'], dtype='object')\n"
     ]
    }
   ],
   "source": [
    "filename = 'sentimentVN.csv'\n",
    "df = pd.read_csv(filename)\n",
    "print(\"df.head(5):\\n\",df.head(5))\n",
    "print(\"df.shape: \",df.shape)\n",
    "print(\"df.columns: \",df.columns)"
   ]
  },
  {
   "cell_type": "code",
   "execution_count": 4,
   "metadata": {},
   "outputs": [
    {
     "name": "stdout",
     "output_type": "stream",
     "text": [
      "Counter({'POS': 20093, 'NEG': 6669, 'NEU': 4698})\n",
      "['áo bao đẹp ạ positive' 'tuyệt vời positive' '2day ao không giong trong'\n",
      " 'mùi thơm bôi lên da mềm da nagative positive' 'vải đẹp dày dặn positive'\n",
      " 'hàng rất đẹp rất chi là ưng ý positive positive'\n",
      " 'chất lượng sản phẩm tốt hạn sử dụng dài positive positive'\n",
      " 'ăn nói và thái độ phục vụ tốt positive'\n",
      " 'đóng gói sản phẩm chắc chắn positive'\n",
      " 'tất sờn hết ca chưa dùng mà vay r']\n"
     ]
    }
   ],
   "source": [
    "from collections import Counter \n",
    "counter = Counter()\n",
    "labels = df['label']\n",
    "reviews = df.values[:,1] \n",
    "counter.update(labels)\n",
    "print(counter)\n",
    "print(reviews[:10])"
   ]
  },
  {
   "cell_type": "code",
   "execution_count": 5,
   "metadata": {},
   "outputs": [
    {
     "data": {
      "text/plain": [
       "<BarContainer object of 3 artists>"
      ]
     },
     "execution_count": 5,
     "metadata": {},
     "output_type": "execute_result"
    },
    {
     "data": {
      "image/png": "[encoded data removed]",
      "text/plain": [
       "<Figure size 432x288 with 1 Axes>"
      ]
     },
     "metadata": {
      "needs_background": "light"
     },
     "output_type": "display_data"
    }
   ],
   "source": [
    "import matplotlib.pyplot as plt\n",
    "plt.bar(counter.keys(),counter.values())"
   ]
  },
  {
   "cell_type": "code",
   "execution_count": 7,
   "metadata": {},
   "outputs": [
    {
     "name": "stdout",
     "output_type": "stream",
     "text": [
      "['khi mua về nên đi sửa lại'\n",
      " 'với giá này thì sản phẩm tạm ổn notpos  gọi là đẹp lắm positive positive'\n",
      " 'rất đáng tiền thời gian giao hàng rất nhanh chất lượng sản phẩm tuyệt vời positive positive'\n",
      " ... 'hàng đẹp đúng giá tiền positive positive' 'chất vải khá ổn positive'\n",
      " 'áo rất ok nhé vải mịn len cao cổ này phối form mùa đông thì quá chất m ng nhé positive positive']\n",
      "['POS' 'POS' 'NEG' 'POS' 'POS' 'POS' 'POS' 'POS' 'POS' 'NEG']\n"
     ]
    }
   ],
   "source": [
    "data =df.values\n",
    "#print(data[:2])\n",
    "lines = data[:,1]\n",
    "labels = data[:,2]\n",
    "print(lines[20:])\n",
    "print(labels[:10])"
   ]
  },
  {
   "cell_type": "code",
   "execution_count": 8,
   "metadata": {},
   "outputs": [
    {
     "name": "stdout",
     "output_type": "stream",
     "text": [
      "[['áo', 'bao', 'đẹp', 'ạ', 'positive'], ['tuyệt', 'vời', 'positive'], ['2day', 'ao', 'không', 'giong', 'trong'], ['mùi', 'thơm', 'bôi', 'lên', 'da', 'mềm', 'da', 'nagative', 'positive'], ['vải', 'đẹp', 'dày', 'dặn', 'positive']]\n",
      "++++++++++++++++++++++++++++++++++++\n",
      "[['áo bao', 'bao đẹp', 'đẹp ạ', 'ạ positive'], ['tuyệt vời', 'vời positive'], ['2day ao', 'ao không', 'không giong', 'giong trong'], ['mùi thơm', 'thơm bôi', 'bôi lên', 'lên da', 'da mềm', 'mềm da', 'da nagative', 'nagative positive'], ['vải đẹp', 'đẹp dày', 'dày dặn', 'dặn positive']]\n"
     ]
    }
   ],
   "source": [
    "import nltk\n",
    "#nltk.download('all')\n",
    "from nltk.util import ngrams\n",
    "# tách từ trong từng câu\n",
    "#1-gram\n",
    "sentences = [nltk.word_tokenize(str(sent)) for sent in lines]\n",
    "print(sentences[:5])\n",
    "\n",
    "print(\"++++++++++++++++++++++++++++++++++++\")\n",
    "\n",
    "#2-gram\n",
    "sentences2 = []\n",
    "for i in range(len(sentences)):\n",
    "    bigrams = ngrams(sentences[i],2)\n",
    "    join_grams = [' '.join(list(gram)) for gram in bigrams]\n",
    "    sentences2.append(join_grams)\n",
    "print(sentences2[:5])\n"
   ]
  },
  {
   "cell_type": "code",
   "execution_count": 9,
   "metadata": {},
   "outputs": [
    {
     "name": "stdout",
     "output_type": "stream",
     "text": [
      "[[0. 1. 0. ... 0. 0. 0.]\n",
      " [0. 1. 0. ... 0. 0. 0.]\n",
      " [0. 0. 0. ... 0. 0. 0.]\n",
      " ...\n",
      " [0. 1. 1. ... 0. 0. 0.]\n",
      " [0. 1. 0. ... 0. 0. 0.]\n",
      " [0. 1. 0. ... 0. 0. 0.]]\n",
      "++++++++++++++++++++++++++++++\n"
     ]
    }
   ],
   "source": [
    "from keras.preprocessing.text import Tokenizer\n",
    "\n",
    "tokenizer = Tokenizer()\n",
    "tokenizer.fit_on_texts(sentences)\n",
    "\n",
    "# matrix (convert sang vector với binary)\n",
    "X = tokenizer.texts_to_matrix(sentences, mode='binary')\n",
    "# matrix (convert sang vector với count)\n",
    "#X = tokenizer.texts_to_matrix(sentences, mode='count')\n",
    "# matrix (convert sang vector với tfidf)\n",
    "#X = tokenizer.texts_to_matrix(sentences, mode='tfidf')\n",
    "\n",
    "# matrix (convert sang vector với binary)\n",
    "#X2 = tokenizer.texts_to_matrix(sentences2, mode='count')\n",
    "# matrix (convert sang vector với count)\n",
    "#X = tokenizer.texts_to_matrix(sentences, mode='count')\n",
    "# matrix (convert sang vector với tfidf)\n",
    "#X = tokenizer.texts_to_matrix(sentences, mode='tfidf')\n",
    "\n",
    "print(X)\n",
    "print(\"++++++++++++++++++++++++++++++\")\n",
    "#print(X2)"
   ]
  },
  {
   "cell_type": "code",
   "execution_count": 10,
   "metadata": {},
   "outputs": [],
   "source": [
    "from sklearn.model_selection import train_test_split\n",
    "x_train, X_test, y_train, y_test = train_test_split(X, labels, test_size=0.2, random_state=0)"
   ]
  },
  {
   "cell_type": "code",
   "execution_count": 11,
   "metadata": {},
   "outputs": [
    {
     "name": "stderr",
     "output_type": "stream",
     "text": [
      "C:\\Users\\TuanDuy\\anaconda3\\envs\\tensorflow\\lib\\site-packages\\sklearn\\linear_model\\_logistic.py:762: ConvergenceWarning: lbfgs failed to converge (status=1):\n",
      "STOP: TOTAL NO. of ITERATIONS REACHED LIMIT.\n",
      "\n",
      "Increase the number of iterations (max_iter) or scale the data as shown in:\n",
      "    https://scikit-learn.org/stable/modules/preprocessing.html\n",
      "Please also refer to the documentation for alternative solver options:\n",
      "    https://scikit-learn.org/stable/modules/linear_model.html#logistic-regression\n",
      "  n_iter_i = _check_optimize_result(\n"
     ]
    },
    {
     "name": "stdout",
     "output_type": "stream",
     "text": [
      "              precision    recall  f1-score   support\n",
      "\n",
      "         NEG       0.70      0.76      0.73      1290\n",
      "         NEU       0.43      0.23      0.30       946\n",
      "         POS       0.86      0.93      0.90      4056\n",
      "\n",
      "    accuracy                           0.79      6292\n",
      "   macro avg       0.66      0.64      0.64      6292\n",
      "weighted avg       0.76      0.79      0.77      6292\n",
      "\n"
     ]
    }
   ],
   "source": [
    "# LogisticRegression\n",
    "from sklearn.linear_model import LogisticRegression\n",
    "model_LR = LogisticRegression()\n",
    "model_LR = model_LR.fit(x_train, y_train)\n",
    "from sklearn.metrics import classification_report\n",
    "y_pred = model_LR.predict(X_test)\n",
    "print(classification_report(y_test,y_pred))\n",
    "\n",
    "# kết quả sẽ cho ra warning nhưng vẫn chạy được"
   ]
  },
  {
   "cell_type": "code",
   "execution_count": 12,
   "metadata": {},
   "outputs": [
    {
     "name": "stdout",
     "output_type": "stream",
     "text": [
      "[['khi', 'mua', 'về', 'nên', 'đi', 'sửa', 'lại']]\n",
      "[[0. 0. 0. ... 0. 0. 0.]]\n",
      "['NEG']\n"
     ]
    }
   ],
   "source": [
    "# LogisticRegression\n",
    "#input_sent = 'hàng rất chất lượng và nhìn rất đẹp'\n",
    "input_sent = 'khi mua về nên đi sửa lại'\n",
    "\n",
    "#X_input = tokenizer.texts_to_matrix(input_sentences, mode='count')\n",
    "\n",
    "# Step 1: tokenize\n",
    "input_sentences = []\n",
    "input_sentences.append(nltk.word_tokenize(input_sent))\n",
    "\n",
    "print(input_sentences)\n",
    "\n",
    "#input_sentences = [nltk.word_tokenize(input_sent)]\n",
    "#print(input_sentences)\n",
    "\n",
    "\n",
    "# Step 2: chuyển list of tokens -> vector of number\n",
    "\n",
    "# texts_to_matrix\n",
    "# tokenizer.texts_to_matrix(input_sentences, mode='binary')\n",
    "#print(X_input)\n",
    "X_input = tokenizer.texts_to_matrix(input_sentences, mode='binary')\n",
    "print(X_input)\n",
    "y_pred = model_LR.predict(X_input)\n",
    "print(y_pred)"
   ]
  },
  {
   "cell_type": "code",
   "execution_count": 15,
   "metadata": {},
   "outputs": [
    {
     "name": "stdout",
     "output_type": "stream",
     "text": [
      "              precision    recall  f1-score   support\n",
      "\n",
      "         NEG       0.65      0.74      0.69      1290\n",
      "         NEU       0.35      0.31      0.33       946\n",
      "         POS       0.87      0.86      0.87      4056\n",
      "\n",
      "    accuracy                           0.75      6292\n",
      "   macro avg       0.62      0.64      0.63      6292\n",
      "weighted avg       0.75      0.75      0.75      6292\n",
      "\n"
     ]
    }
   ],
   "source": [
    "# naive_bayes chạy nhanh nhất\n",
    "from sklearn.naive_bayes import MultinomialNB\n",
    "\n",
    "model_LR = MultinomialNB()\n",
    "model_LR = model_LR.fit(x_train, y_train)\n",
    "\n",
    "from sklearn.metrics import classification_report\n",
    "y_pred = model_LR.predict(X_test)\n",
    "print(classification_report(y_test,y_pred))"
   ]
  },
  {
   "cell_type": "code",
   "execution_count": 16,
   "metadata": {},
   "outputs": [
    {
     "name": "stdout",
     "output_type": "stream",
     "text": [
      "[['thầy', 'Cường', 'đẹp', 'trai']]\n",
      "[[0. 0. 0. ... 0. 0. 0.]]\n",
      "['POS']\n"
     ]
    }
   ],
   "source": [
    "# naive_bayes\n",
    "input_sent = 'thầy Cường đẹp trai'\n",
    "#input_sent = 'khi mua về nên đi sửa lại'\n",
    "# Step 1: tokenize\n",
    "input_sentences = []\n",
    "input_sentences.append(nltk.word_tokenize(input_sent))\n",
    "print(input_sentences)\n",
    "# Step 2: chuyển list of tokens -> vector of number\n",
    "X_input = tokenizer.texts_to_matrix(input_sentences, mode='binary')\n",
    "print(X_input)\n",
    "y_pred = model_LR.predict(X_input)\n",
    "print(y_pred)"
   ]
  },
  {
   "cell_type": "code",
   "execution_count": null,
   "metadata": {},
   "outputs": [],
   "source": [
    "# Đợi lâu\n",
    "#Import svm model\n",
    "from sklearn import svm\n",
    "\n",
    "#Create a svm Classifier\n",
    "clf = svm.SVC(kernel='linear') # Linear Kernel\n",
    "\n",
    "#Train the model using the training sets\n",
    "clf.fit(x_train, y_train)\n",
    "\n",
    "#Predict the response for test dataset\n",
    "y_pred = clf.predict(X_test)"
   ]
  },
  {
   "cell_type": "code",
   "execution_count": null,
   "metadata": {},
   "outputs": [],
   "source": [
    "print(\"Hello world\")"
   ]
  },
  {
   "cell_type": "code",
   "execution_count": null,
   "metadata": {},
   "outputs": [],
   "source": [
    "#Import scikit-learn metrics module for accuracy calculation\n",
    "from sklearn import metrics\n",
    "\n",
    "# Model Accuracy: how often is the classifier correct?\n",
    "print(\"Accuracy:\",metrics.accuracy_score(y_test, y_pred))"
   ]
  },
  {
   "cell_type": "code",
   "execution_count": null,
   "metadata": {},
   "outputs": [],
   "source": [
    "# Model Precision: what percentage of positive tuples are labeled as such?\n",
    "print(\"Precision:\",metrics.precision_score(y_test, y_pred))\n",
    "\n",
    "# Model Recall: what percentage of positive tuples are labelled as such?\n",
    "print(\"Recall:\",metrics.recall_score(y_test, y_pred))"
   ]
  },
  {
   "cell_type": "code",
   "execution_count": null,
   "metadata": {},
   "outputs": [],
   "source": []
  }
 ],
 "metadata": {
  "kernelspec": {
   "display_name": "Python 3",
   "language": "python",
   "name": "python3"
  },
  "language_info": {
   "codemirror_mode": {
    "name": "ipython",
    "version": 3
   },
   "file_extension": ".py",
   "mimetype": "text/x-python",
   "name": "python",
   "nbconvert_exporter": "python",
   "pygments_lexer": "ipython3",
   "version": "3.8.5"
  }
 },
 "nbformat": 4,
 "nbformat_minor": 2
}
