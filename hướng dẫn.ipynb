{
 "cells": [
  {
   "cell_type": "code",
   "execution_count": 45,
   "metadata": {},
   "outputs": [
    {
     "name": "stderr",
     "output_type": "stream",
     "text": [
      "[nltk_data] Downloading package punkt to\n",
      "[nltk_data]     C:\\Users\\TuanDuy\\AppData\\Roaming\\nltk_data...\n",
      "[nltk_data]   Unzipping tokenizers\\punkt.zip.\n"
     ]
    }
   ],
   "source": [
    "import nltk\n",
    "import os\n",
    "nltk.download('punkt')\n",
    "cwd = os.getcwd()\n",
    "train_File = cwd + r'\\train.txt'\n",
    "test_File = cwd + r'\\test.txt'"
   ]
  },
  {
   "cell_type": "code",
   "execution_count": 43,
   "metadata": {},
   "outputs": [
    {
     "name": "stdout",
     "output_type": "stream",
     "text": [
      "16382\n",
      "3618\n"
     ]
    }
   ],
   "source": [
    "with open(train_File, encoding='utf-8') as f:\n",
    "    lines = f.readlines()\n",
    "print(len(lines))\n",
    "\n",
    "with open(test_File, encoding='utf-8') as f1:\n",
    "    lines1 = f1.readlines()\n",
    "print(len(lines1))"
   ]
  },
  {
   "cell_type": "code",
   "execution_count": 49,
   "metadata": {},
   "outputs": [
    {
     "name": "stdout",
     "output_type": "stream",
     "text": [
      "113940\n",
      "[(',_and', 2306), ('of_the', 1358), ('in_the', 1279), (',_I', 977), (',_the', 959), (',_we', 826), (',_but', 754), (\"it_'s\", 742), ('to_the', 566), (',_``', 562)]\n"
     ]
    }
   ],
   "source": [
    "# tính 2-gram và tần suất \n",
    "from nltk import ngrams\n",
    "from collections import Counter\n",
    "\n",
    "bi_counter = Counter()\n",
    "for sent in lines:\n",
    "    words = nltk.word_tokenize(sent)\n",
    "    gram2=ngrams(words,2)\n",
    "    join_grams = ['_'.join(list(gram)) for gram in gram2]\n",
    "    bi_counter.update(join_grams)\n",
    "\n",
    "print(len(bi_counter))\n",
    "#in thử một số \n",
    "print(bi_counter.most_common(10))"
   ]
  },
  {
   "cell_type": "code",
   "execution_count": 51,
   "metadata": {},
   "outputs": [
    {
     "name": "stdout",
     "output_type": "stream",
     "text": [
      "('this', 'is', 'a')\n",
      "this_is_a\n",
      "('is', 'a', 'foo')\n",
      "is_a_foo\n",
      "('a', 'foo', 'bar')\n",
      "a_foo_bar\n",
      "('foo', 'bar', 'sentences')\n",
      "foo_bar_sentences\n",
      "('bar', 'sentences', 'and')\n",
      "bar_sentences_and\n",
      "('sentences', 'and', 'i')\n",
      "sentences_and_i\n",
      "('and', 'i', 'want')\n",
      "and_i_want\n",
      "('i', 'want', 'to')\n",
      "i_want_to\n",
      "('want', 'to', 'ngramize')\n",
      "want_to_ngramize\n",
      "('to', 'ngramize', 'it')\n",
      "to_ngramize_it\n"
     ]
    }
   ],
   "source": [
    "# ví dụ extract ngrams\n",
    "from nltk import ngrams\n",
    "sentence = 'this is a foo bar sentences and i want to ngramize it'\n",
    "n = 3\n",
    "sixgrams = ngrams(sentence.split(), n)\n",
    "for grams in sixgrams:\n",
    "    print(grams)\n",
    "    a = list(grams)\n",
    "    print('_'.join(a))\n",
    "    "
   ]
  },
  {
   "cell_type": "code",
   "execution_count": 52,
   "metadata": {},
   "outputs": [
    {
     "name": "stdout",
     "output_type": "stream",
     "text": [
      "['there', 'is', 'a', 'cat', 'and', 'a', 'dog', 'but', 'I', 'like', 'the', 'dog']\n",
      "Counter({'a': 2, 'dog': 2, 'there': 1, 'is': 1, 'cat': 1, 'and': 1, 'but': 1, 'I': 1, 'like': 1, 'the': 1})\n"
     ]
    }
   ],
   "source": [
    "# ví dụ về counter\n",
    "from collections import Counter\n",
    "sentence = 'there is a cat and a dog but I like the dog'\n",
    "words = sentence.split()\n",
    "print(words)\n",
    "\n",
    "count = Counter()\n",
    "count.update(words)\n",
    "print(count)"
   ]
  },
  {
   "cell_type": "code",
   "execution_count": null,
   "metadata": {},
   "outputs": [],
   "source": []
  }
 ],
 "metadata": {
  "kernelspec": {
   "display_name": "Python 3",
   "language": "python",
   "name": "python3"
  },
  "language_info": {
   "codemirror_mode": {
    "name": "ipython",
    "version": 3
   },
   "file_extension": ".py",
   "mimetype": "text/x-python",
   "name": "python",
   "nbconvert_exporter": "python",
   "pygments_lexer": "ipython3",
   "version": "3.8.5"
  }
 },
 "nbformat": 4,
 "nbformat_minor": 2
}
